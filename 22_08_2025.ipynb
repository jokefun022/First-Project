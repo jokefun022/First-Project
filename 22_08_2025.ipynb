{
  "nbformat": 4,
  "nbformat_minor": 0,
  "metadata": {
    "colab": {
      "provenance": [],
      "authorship_tag": "ABX9TyOfiVstVc1OTYI9Wri4t7yd",
      "include_colab_link": true
    },
    "kernelspec": {
      "name": "python3",
      "display_name": "Python 3"
    },
    "language_info": {
      "name": "python"
    }
  },
  "cells": [
    {
      "cell_type": "markdown",
      "metadata": {
        "id": "view-in-github",
        "colab_type": "text"
      },
      "source": [
        "<a href=\"https://colab.research.google.com/github/jokefun022/jokefun022/blob/main/22_08_2025.ipynb\" target=\"_parent\"><img src=\"https://colab.research.google.com/assets/colab-badge.svg\" alt=\"Open In Colab\"/></a>"
      ]
    },
    {
      "cell_type": "code",
      "execution_count": 13,
      "metadata": {
        "id": "foERFbDHoNaL",
        "collapsed": true,
        "colab": {
          "base_uri": "https://localhost:8080/"
        },
        "outputId": "7d2b1a92-62a1-469c-c9ff-2aea0373c087"
      },
      "outputs": [
        {
          "output_type": "stream",
          "name": "stdout",
          "text": [
            "Archive:  /content/Sarcasm-Detection-Using-Emoji-Urdu-FULL.zip\n",
            "  inflating: project/Sarcasm-Detection-Using-Emoji-Urdu-FULL/requirements.txt  \n",
            "  inflating: project/Sarcasm-Detection-Using-Emoji-Urdu-FULL/README_Colab.md  \n",
            "  inflating: project/Sarcasm-Detection-Using-Emoji-Urdu-FULL/main.py  \n",
            "  inflating: project/Sarcasm-Detection-Using-Emoji-Urdu-FULL/Run_ML.py  \n",
            "  inflating: project/Sarcasm-Detection-Using-Emoji-Urdu-FULL/Data/Complete_Data_With_Emoji.csv  \n",
            "  inflating: project/Sarcasm-Detection-Using-Emoji-Urdu-FULL/Model/BiLSTM_Attention.py  \n",
            "  inflating: project/Sarcasm-Detection-Using-Emoji-Urdu-FULL/Process_Embedding/Emoji2Vec.py  \n",
            "  inflating: project/Sarcasm-Detection-Using-Emoji-Urdu-FULL/Process_Embedding/Word2Vec.py  \n",
            "  inflating: project/Sarcasm-Detection-Using-Emoji-Urdu-FULL/Process_Embedding/Concat.py  \n",
            "  inflating: project/Sarcasm-Detection-Using-Emoji-Urdu-FULL/Process_Embedding/RetrieveEmbeddings.py  \n"
          ]
        }
      ],
      "source": [
        "!unzip -o /content/Sarcasm-Detection-Using-Emoji-Urdu-FULL.zip -d project"
      ]
    },
    {
      "cell_type": "code",
      "source": [
        "%cd /content/project/project/Sarcasm-Detection-Using-Emoji-Urdu-FULL"
      ],
      "metadata": {
        "colab": {
          "base_uri": "https://localhost:8080/"
        },
        "id": "FNWm67vt41Q_",
        "outputId": "369cb76f-47fe-41f9-e096-d87e2087996b"
      },
      "execution_count": 15,
      "outputs": [
        {
          "output_type": "stream",
          "name": "stdout",
          "text": [
            "/content/project/project/Sarcasm-Detection-Using-Emoji-Urdu-FULL\n"
          ]
        }
      ]
    },
    {
      "cell_type": "code",
      "source": [
        "!pip install -q -r requirements.txt"
      ],
      "metadata": {
        "colab": {
          "base_uri": "https://localhost:8080/"
        },
        "id": "NCrkRBRo5NXM",
        "outputId": "239b1b87-bf50-4f9b-fcdc-202ad44ef53b"
      },
      "execution_count": 16,
      "outputs": [
        {
          "output_type": "stream",
          "name": "stdout",
          "text": [
            "\u001b[2K     \u001b[90m━━━━━━━━━━━━━━━━━━━━━━━━━━━━━━━━━━━━━━━━\u001b[0m \u001b[32m61.0/61.0 kB\u001b[0m \u001b[31m3.2 MB/s\u001b[0m eta \u001b[36m0:00:00\u001b[0m\n",
            "\u001b[2K     \u001b[90m━━━━━━━━━━━━━━━━━━━━━━━━━━━━━━━━━━━━━━━━\u001b[0m \u001b[32m60.6/60.6 kB\u001b[0m \u001b[31m3.2 MB/s\u001b[0m eta \u001b[36m0:00:00\u001b[0m\n",
            "\u001b[2K   \u001b[90m━━━━━━━━━━━━━━━━━━━━━━━━━━━━━━━━━━━━━━━━\u001b[0m \u001b[32m26.6/26.6 MB\u001b[0m \u001b[31m68.8 MB/s\u001b[0m eta \u001b[36m0:00:00\u001b[0m\n",
            "\u001b[2K   \u001b[90m━━━━━━━━━━━━━━━━━━━━━━━━━━━━━━━━━━━━━━━━\u001b[0m \u001b[32m18.0/18.0 MB\u001b[0m \u001b[31m83.8 MB/s\u001b[0m eta \u001b[36m0:00:00\u001b[0m\n",
            "\u001b[2K   \u001b[90m━━━━━━━━━━━━━━━━━━━━━━━━━━━━━━━━━━━━━━━━\u001b[0m \u001b[32m590.6/590.6 kB\u001b[0m \u001b[31m24.7 MB/s\u001b[0m eta \u001b[36m0:00:00\u001b[0m\n",
            "\u001b[2K   \u001b[90m━━━━━━━━━━━━━━━━━━━━━━━━━━━━━━━━━━━━━━━━\u001b[0m \u001b[32m38.2/38.2 MB\u001b[0m \u001b[31m16.0 MB/s\u001b[0m eta \u001b[36m0:00:00\u001b[0m\n",
            "\u001b[?25h\u001b[31mERROR: pip's dependency resolver does not currently take into account all the packages that are installed. This behaviour is the source of the following dependency conflicts.\n",
            "opencv-python-headless 4.12.0.88 requires numpy<2.3.0,>=2; python_version >= \"3.9\", but you have numpy 1.26.4 which is incompatible.\n",
            "opencv-contrib-python 4.12.0.88 requires numpy<2.3.0,>=2; python_version >= \"3.9\", but you have numpy 1.26.4 which is incompatible.\n",
            "opencv-python 4.12.0.88 requires numpy<2.3.0,>=2; python_version >= \"3.9\", but you have numpy 1.26.4 which is incompatible.\n",
            "thinc 8.3.6 requires numpy<3.0.0,>=2.0.0, but you have numpy 1.26.4 which is incompatible.\n",
            "tsfresh 0.21.0 requires scipy>=1.14.0; python_version >= \"3.10\", but you have scipy 1.13.1 which is incompatible.\u001b[0m\u001b[31m\n",
            "\u001b[0m"
          ]
        }
      ]
    },
    {
      "cell_type": "code",
      "source": [
        "!python Run_ML.py --data_path Data/Complete_Data_With_Emoji.csv --text_col \"Tweet_Text_With_Emoji\" --label_col \"Label\" --use_emoji true\n"
      ],
      "metadata": {
        "colab": {
          "base_uri": "https://localhost:8080/"
        },
        "id": "xjCyrJkP6XKy",
        "outputId": "b4ab5063-06ae-41ca-aeaf-580e4c95f2ca"
      },
      "execution_count": 17,
      "outputs": [
        {
          "output_type": "stream",
          "name": "stdout",
          "text": [
            "\n",
            "===== LogisticRegression =====\n",
            "Accuracy: 0.9630\n",
            "              precision    recall  f1-score   support\n",
            "\n",
            "           0       0.98      0.99      0.98      1211\n",
            "           1       0.94      0.92      0.93       145\n",
            "           2       0.96      0.94      0.95       628\n",
            "           3       0.86      0.95      0.90        80\n",
            "           4       0.94      0.93      0.94        71\n",
            "\n",
            "    accuracy                           0.96      2135\n",
            "   macro avg       0.94      0.94      0.94      2135\n",
            "weighted avg       0.96      0.96      0.96      2135\n",
            "\n",
            "\n",
            "===== SGDClassifier =====\n",
            "Accuracy: 0.9803\n",
            "              precision    recall  f1-score   support\n",
            "\n",
            "           0       0.99      0.99      0.99      1211\n",
            "           1       0.96      0.94      0.95       145\n",
            "           2       0.98      0.97      0.97       628\n",
            "           3       0.94      0.96      0.95        80\n",
            "           4       0.94      0.96      0.95        71\n",
            "\n",
            "    accuracy                           0.98      2135\n",
            "   macro avg       0.96      0.97      0.96      2135\n",
            "weighted avg       0.98      0.98      0.98      2135\n",
            "\n",
            "\n",
            "===== GaussianNB =====\n",
            "Accuracy: 0.8726\n",
            "              precision    recall  f1-score   support\n",
            "\n",
            "           0       0.92      0.92      0.92      1211\n",
            "           1       0.89      0.51      0.65       145\n",
            "           2       0.77      0.92      0.84       628\n",
            "           3       1.00      0.64      0.78        80\n",
            "           4       1.00      0.68      0.81        71\n",
            "\n",
            "    accuracy                           0.87      2135\n",
            "   macro avg       0.92      0.73      0.80      2135\n",
            "weighted avg       0.88      0.87      0.87      2135\n",
            "\n",
            "\n",
            "===== KNeighbors =====\n",
            "Accuracy: 0.9480\n",
            "              precision    recall  f1-score   support\n",
            "\n",
            "           0       0.97      0.98      0.97      1211\n",
            "           1       0.80      0.95      0.87       145\n",
            "           2       0.95      0.91      0.93       628\n",
            "           3       0.89      0.95      0.92        80\n",
            "           4       0.89      0.80      0.84        71\n",
            "\n",
            "    accuracy                           0.95      2135\n",
            "   macro avg       0.90      0.92      0.91      2135\n",
            "weighted avg       0.95      0.95      0.95      2135\n",
            "\n",
            "\n",
            "===== RandomForest =====\n",
            "Accuracy: 0.9681\n",
            "              precision    recall  f1-score   support\n",
            "\n",
            "           0       0.97      1.00      0.99      1211\n",
            "           1       0.87      0.90      0.88       145\n",
            "           2       0.99      0.95      0.97       628\n",
            "           3       0.94      0.84      0.89        80\n",
            "           4       0.97      0.90      0.93        71\n",
            "\n",
            "    accuracy                           0.97      2135\n",
            "   macro avg       0.95      0.92      0.93      2135\n",
            "weighted avg       0.97      0.97      0.97      2135\n",
            "\n",
            "\n",
            "===== AdaBoost =====\n",
            "Accuracy: 0.7911\n",
            "              precision    recall  f1-score   support\n",
            "\n",
            "           0       0.77      0.95      0.85      1211\n",
            "           1       0.81      0.47      0.59       145\n",
            "           2       0.83      0.60      0.70       628\n",
            "           3       0.99      0.85      0.91        80\n",
            "           4       0.91      0.42      0.58        71\n",
            "\n",
            "    accuracy                           0.79      2135\n",
            "   macro avg       0.86      0.66      0.73      2135\n",
            "weighted avg       0.80      0.79      0.78      2135\n",
            "\n",
            "\n",
            "===== Bagging =====\n",
            "Accuracy: 0.9691\n",
            "              precision    recall  f1-score   support\n",
            "\n",
            "           0       0.99      0.99      0.99      1211\n",
            "           1       0.88      0.90      0.89       145\n",
            "           2       0.97      0.96      0.97       628\n",
            "           3       0.90      0.82      0.86        80\n",
            "           4       0.86      0.93      0.89        71\n",
            "\n",
            "    accuracy                           0.97      2135\n",
            "   macro avg       0.92      0.92      0.92      2135\n",
            "weighted avg       0.97      0.97      0.97      2135\n",
            "\n",
            "\n",
            "===== ExtraTrees =====\n",
            "Accuracy: 0.9766\n",
            "              precision    recall  f1-score   support\n",
            "\n",
            "           0       0.98      1.00      0.99      1211\n",
            "           1       0.91      0.94      0.92       145\n",
            "           2       0.98      0.97      0.98       628\n",
            "           3       0.97      0.86      0.91        80\n",
            "           4       0.99      0.93      0.96        71\n",
            "\n",
            "    accuracy                           0.98      2135\n",
            "   macro avg       0.97      0.94      0.95      2135\n",
            "weighted avg       0.98      0.98      0.98      2135\n",
            "\n",
            "\n",
            "===== GradientBoosting =====\n",
            "Accuracy: 0.9728\n",
            "              precision    recall  f1-score   support\n",
            "\n",
            "           0       0.98      0.99      0.99      1211\n",
            "           1       0.96      0.92      0.94       145\n",
            "           2       0.98      0.95      0.96       628\n",
            "           3       0.94      0.97      0.96        80\n",
            "           4       0.91      0.97      0.94        71\n",
            "\n",
            "    accuracy                           0.97      2135\n",
            "   macro avg       0.95      0.96      0.96      2135\n",
            "weighted avg       0.97      0.97      0.97      2135\n",
            "\n",
            "\n",
            "==== Summary Accuracies ====\n",
            "SGDClassifier: 0.9803\n",
            "ExtraTrees: 0.9766\n",
            "GradientBoosting: 0.9728\n",
            "Bagging: 0.9691\n",
            "RandomForest: 0.9681\n",
            "LogisticRegression: 0.9630\n",
            "KNeighbors: 0.9480\n",
            "GaussianNB: 0.8726\n",
            "AdaBoost: 0.7911\n"
          ]
        }
      ]
    }
  ]
}